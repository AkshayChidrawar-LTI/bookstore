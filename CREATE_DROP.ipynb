{
 "cells": [
  {
   "cell_type": "code",
   "execution_count": 0,
   "metadata": {
    "application/vnd.databricks.v1+cell": {
     "cellMetadata": {
      "byteLimit": 2048000,
      "rowLimit": 10000
     },
     "inputWidgets": {},
     "nuid": "726b5c29-f054-40c7-85ed-c0562f49e295",
     "showTitle": true,
     "tableResultSettingsMap": {},
     "title": "DROP TABLES, DATABASES, CATALOG"
    }
   },
   "outputs": [],
   "source": [
    "DROP TABLE IF EXISTS bookstore.bronze.feeds;\n",
    "DROP TABLE IF EXISTS bookstore.bronze.books;\n",
    "DROP TABLE IF EXISTS bookstore.bronze.customers;\n",
    "DROP TABLE IF EXISTS bookstore.bronze.orders;\n",
    "DROP TABLE IF EXISTS bookstore.silver.books;\n",
    "DROP TABLE IF EXISTS bookstore.silver.customers;\n",
    "DROP TABLE IF EXISTS bookstore.silver.orders;\n",
    "DROP DATABASE IF EXISTS bookstore.bronze CASCADE;\n",
    "DROP DATABASE IF EXISTS bookstore.silver CASCADE;\n",
    "DROP DATABASE IF EXISTS bookstore.gold CASCADE;\n",
    "DROP CATALOG IF EXISTS bookstore CASCADE;"
   ]
  },
  {
   "cell_type": "code",
   "execution_count": 0,
   "metadata": {
    "application/vnd.databricks.v1+cell": {
     "cellMetadata": {
      "byteLimit": 2048000,
      "rowLimit": 10000
     },
     "collapsed": true,
     "inputWidgets": {},
     "nuid": "9ffc9291-4c67-4a78-ad0f-26cc430018fc",
     "showTitle": true,
     "tableResultSettingsMap": {},
     "title": "IMPORT"
    }
   },
   "outputs": [],
   "source": [
    "%python\n",
    "from databricks.sdk import WorkspaceClient\n",
    "from databricks.sdk.service.catalog import AwsIamRole\n",
    "\n",
    "workspace = WorkspaceClient()"
   ]
  },
  {
   "cell_type": "code",
   "execution_count": 0,
   "metadata": {
    "application/vnd.databricks.v1+cell": {
     "cellMetadata": {
      "byteLimit": 2048000,
      "rowLimit": 10000
     },
     "collapsed": true,
     "inputWidgets": {},
     "nuid": "b445f4ae-17ba-4eb8-bca0-aab49704cc84",
     "showTitle": true,
     "tableResultSettingsMap": {},
     "title": "DROP EL & SC"
    }
   },
   "outputs": [],
   "source": [
    "%python\n",
    "workspace.external_locations.delete('el_bookstorerawdata')\n",
    "workspace.external_locations.delete('el_bookstoredatabricks')\n",
    "workspace.storage_credentials.delete('sc_bookstorerawdata')\n",
    "workspace.storage_credentials.delete('sc_bookstoredatabricks')"
   ]
  },
  {
   "cell_type": "code",
   "execution_count": 0,
   "metadata": {
    "application/vnd.databricks.v1+cell": {
     "cellMetadata": {
      "byteLimit": 2048000,
      "rowLimit": 10000
     },
     "collapsed": true,
     "inputWidgets": {},
     "nuid": "0d94fa89-53d1-4ad9-b208-082ae8b06341",
     "showTitle": true,
     "tableResultSettingsMap": {},
     "title": "CREATE SC & EL"
    }
   },
   "outputs": [],
   "source": [
    "%python\n",
    "workspace.storage_credentials.create(\n",
    "    name='sc_bookstorerawdata'\n",
    "    ,aws_iam_role=AwsIamRole(role_arn = 'arn:aws:iam::302263052839:role/databricks-s3-ingest-3fcda-db_s3_iam')\n",
    ")\n",
    "workspace.storage_credentials.create(\n",
    "    name='sc_bookstoredatabricks'\n",
    "    ,aws_iam_role=AwsIamRole(role_arn = 'arn:aws:iam::302263052839:role/databricks-s3-ingest-f00cb-db_s3_iam')\n",
    ")\n",
    "\n",
    "workspace.external_locations.create(\n",
    "    name='el_bookstorerawdata'\n",
    "    ,url='s3://bookstorerawdata/'\n",
    "    ,credential_name='sc_bookstorerawdata'\n",
    ")\n",
    "workspace.external_locations.create(\n",
    "    name='el_bookstoredatabricks'\n",
    "    ,url='s3://bookstoredatabricks/'\n",
    "    ,credential_name='sc_bookstoredatabricks'\n",
    ")"
   ]
  },
  {
   "cell_type": "code",
   "execution_count": 0,
   "metadata": {
    "application/vnd.databricks.v1+cell": {
     "cellMetadata": {
      "byteLimit": 2048000,
      "rowLimit": 10000
     },
     "collapsed": true,
     "inputWidgets": {},
     "nuid": "8cf50819-9ef4-47a4-9c94-4ecb7d986e0a",
     "showTitle": true,
     "tableResultSettingsMap": {},
     "title": "CREATE CATALOG & DATABASES"
    }
   },
   "outputs": [],
   "source": [
    "CREATE CATALOG IF NOT EXISTS bookstore;\n",
    "CREATE DATABASE IF NOT EXISTS bookstore.bronze;\n",
    "CREATE DATABASE IF NOT EXISTS bookstore.silver;\n",
    "CREATE DATABASE IF NOT EXISTS bookstore.gold;"
   ]
  },
  {
   "cell_type": "code",
   "execution_count": 0,
   "metadata": {
    "application/vnd.databricks.v1+cell": {
     "cellMetadata": {
      "byteLimit": 2048000,
      "rowLimit": 10000
     },
     "inputWidgets": {},
     "nuid": "2778ec65-dbcd-45da-9f9f-b410d61050e9",
     "showTitle": true,
     "tableResultSettingsMap": {},
     "title": "CREATE TABLES"
    }
   },
   "outputs": [],
   "source": [
    "CREATE TABLE IF NOT EXISTS bookstore.silver.books\n",
    "(book_id STRING,title STRING,author STRING,price DOUBLE,start_date TIMESTAMP,end_date TIMESTAMP,isActive STRING,source_file STRING,insert_ts TIMESTAMP);\n",
    "\n",
    "CREATE TABLE IF NOT EXISTS bookstore.silver.customers \n",
    "(customer_id STRING, email STRING, first_name STRING, last_name STRING, gender STRING, city STRING, country STRING, last_updated TIMESTAMP,source_file STRING,insert_ts TIMESTAMP);\n",
    "\n",
    "CREATE TABLE IF NOT EXISTS bookstore.silver.orders\n",
    "(order_id STRING, order_timestamp Timestamp, customer_id STRING, quantity BIGINT, total BIGINT, email STRING, first_name STRING, last_name STRING, gender STRING, street STRING, city STRING, country STRING, row_time TIMESTAMP, processed_timestamp TIMESTAMP, books ARRAY<STRUCT<book_id STRING, quantity BIGINT, subtotal BIGINT>>,source_file STRING,insert_ts TIMESTAMP);\n"
   ]
  }
 ],
 "metadata": {
  "application/vnd.databricks.v1+notebook": {
   "computePreferences": {
    "hardware": {
     "accelerator": null,
     "gpuPoolId": null,
     "memory": null
    }
   },
   "dashboards": [],
   "environmentMetadata": {
    "base_environment": "",
    "environment_version": "3"
   },
   "inputWidgetPreferences": null,
   "language": "sql",
   "notebookMetadata": {
    "mostRecentlyExecutedCommandWithImplicitDF": {
     "commandId": 8434604424039022,
     "dataframes": [
      "_sqldf"
     ]
    },
    "pythonIndentUnit": 4
   },
   "notebookName": "CREATE_DROP",
   "widgets": {}
  },
  "language_info": {
   "name": "sql"
  }
 },
 "nbformat": 4,
 "nbformat_minor": 0
}
