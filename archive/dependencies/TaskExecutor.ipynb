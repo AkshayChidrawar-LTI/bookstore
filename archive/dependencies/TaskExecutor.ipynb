{
 "cells": [
  {
   "cell_type": "code",
   "execution_count": 0,
   "metadata": {
    "application/vnd.databricks.v1+cell": {
     "cellMetadata": {
      "byteLimit": 2048000,
      "rowLimit": 10000
     },
     "collapsed": true,
     "inputWidgets": {},
     "nuid": "6ed90290-4b48-44f9-8797-d33558dbac85",
     "showTitle": false,
     "tableResultSettingsMap": {},
     "title": ""
    }
   },
   "outputs": [],
   "source": [
    "%pip install apache-airflow\n",
    "from airflow import DAG\n",
    "from airflow.operators.python import PythonOperator\n",
    "from datetime import datetime, timedelta\n",
    "# from airflow.providers.standard.operators.python.PythonOperator import PythonOperator\n",
    "\n"
   ]
  },
  {
   "cell_type": "code",
   "execution_count": 0,
   "metadata": {
    "application/vnd.databricks.v1+cell": {
     "cellMetadata": {
      "byteLimit": 2048000,
      "rowLimit": 10000
     },
     "collapsed": true,
     "inputWidgets": {},
     "nuid": "a9858b2d-4022-4c3c-a21f-cd2a0cb96aa4",
     "showTitle": false,
     "tableResultSettingsMap": {},
     "title": ""
    }
   },
   "outputs": [],
   "source": [
    "from helper_logger import LoggerManager\n",
    "from helper_yaml import *\n",
    "from helper_misc import *\n",
    "from helper_ObjectsTracker import *"
   ]
  },
  {
   "cell_type": "code",
   "execution_count": 0,
   "metadata": {
    "application/vnd.databricks.v1+cell": {
     "cellMetadata": {
      "byteLimit": 2048000,
      "rowLimit": 10000
     },
     "inputWidgets": {},
     "nuid": "bf369bed-48e6-4b4d-9da3-002c69593236",
     "showTitle": false,
     "tableResultSettingsMap": {},
     "title": ""
    }
   },
   "outputs": [],
   "source": [
    "# logger_for_initializer = LoggerManager(\n",
    "#     logger_name='logger_for_initializer'\n",
    "#     ,log_file='/Workspace/Users/akshay.chidrawar@ltimindtree.com/bookstore/log/test.log'\n",
    "#     ,log_mode='w')\n",
    "\n",
    "# def task_log_details(**context,logger=logger_for_initializer):\n",
    "#     logger.info(f\"Task: {context['task_instance'].task_id}\")\n",
    "\n",
    "def task_wrapper(task_func):\n",
    "    def wrapper(*args,**kwargs):\n",
    "        context = kwargs.get('context',{})\n",
    "        ti = context.get('ti')\n",
    "        try:\n",
    "            return task_func(*args,**kwargs)\n",
    "        except Exception as e:\n",
    "            error_details = {\n",
    "                'error_type': type(e).__name__,\n",
    "                'error_message': str(e)\n",
    "            }\n",
    "            if ti:\n",
    "                ti.xcom_push(key='error_details',value=error_details)\n",
    "            raise\n",
    "    return wrapper\n",
    "\n",
    "def task_get_repository(repository_file,**context):\n",
    "    repository = read_yaml(repository_file)\n",
    "    home = get_path(repository['project']['workspacehome'],repository['project']['reponame'])\n",
    "    dict_repo = {\n",
    "        \"path_ddl\":get_path(home,repository['path']['ddl'])\n",
    "        ,\"path_schema\": get_path(home,repository['path']['schema'])\n",
    "        ,\"path_log\": get_path(home,repository['path']['log'])\n",
    "    }\n",
    "    context['ti'].xcom_push(key='dict_repo',value=dict_repo)\n",
    "\n",
    "def task_get_metadata(metadata_file,**context):\n",
    "    metadata = read_yaml(metadata_file)\n",
    "    dict_meta = {\n",
    "        \"host\":metadata['project']['host']\n",
    "        ,\"token\":metadata['project']['token']\n",
    "        ,\"buckets\":metadata['buckets']\n",
    "        ,\"dwh_structure\":metadata['dwh_structure']\n",
    "        ,\"table_schemas\": metadata['table_schemas']\n",
    "        ,\"objects_tracker\": metadata['objects_tracker']\n",
    "    }\n",
    "    context['ti'].xcom_push(key='dict_meta',value=dict_meta)\n",
    "\n",
    "def task_create_workspace(**context):\n",
    "    workspace = create_Workspace(\n",
    "            host=dict_meta['host'],\n",
    "            token=dict_meta['token']\n",
    "        )\n",
    "    context['ti'].xcom_push(key='workspace',value=workspace)\n",
    "\n",
    "def task_create_objects_tracker(**context):\n",
    "    manage_objects_tracker(DDLType='CREATE')\n",
    "\n",
    "default_args = {\n",
    "    'owner': 'airflow',\n",
    "    'start_date': datetime(2024, 6, 1),\n",
    "    'retries': 1,\n",
    "    'retry_delay': timedelta(minutes=5),\n",
    "    # \"on_failure_callback\": failure_callback,\n",
    "    # \"on_success_callback\": success_callback,\n",
    "    # \"on_retry_callback\": retry_callback,\n",
    "    \"email_on_failure\": False,\n",
    "    \"email_on_retry\": False\n",
    "}\n",
    "\n",
    "with DAG(\n",
    "    'initializer_dag',\n",
    "    default_args=default_args,\n",
    "    schedule=None,\n",
    "    catchup=False\n",
    ") as dag:\n",
    "\n",
    "    get_repository = PythonOperator(\n",
    "        task_id='get_repository',\n",
    "        python_callable=task_wrapper(task_get_repository),\n",
    "        op_kwargs={'repository_file': '/Workspace/Users/akshay.chidrawar@ltimindtree.com/bookstore/config/repository.yaml'},\n",
    "    )\n",
    "    get_metadata = PythonOperator(\n",
    "        task_id='get_metadata',\n",
    "        python_callable=task_wrapper(task_get_metadata),\n",
    "        op_kwargs={'repository_file': '/Workspace/Users/akshay.chidrawar@ltimindtree.com/bookstore/config/metadata.yaml'},\n",
    "    )\n",
    "    create_workspace = PythonOperator(\n",
    "        task_id='create_workspace',\n",
    "        python_callable=task_wrapper(task_create_workspace),\n",
    "    )\n",
    "    create_objects_tracker = PythonOperator(\n",
    "        task_id='create_objects_tracker',\n",
    "        python_callable=task_wrapper(task_create_objects_tracker),\n",
    "    )\n",
    "\n",
    "    [get_repository,get_metadata,create_objects_tracker]\n",
    "    get_metadata >> create_workspace"
   ]
  },
  {
   "cell_type": "code",
   "execution_count": 0,
   "metadata": {
    "application/vnd.databricks.v1+cell": {
     "cellMetadata": {},
     "inputWidgets": {},
     "nuid": "be59b6c6-10cf-4b79-9f91-276d8458559f",
     "showTitle": false,
     "tableResultSettingsMap": {},
     "title": ""
    }
   },
   "outputs": [],
   "source": [
    "def get_xcom_values(**context):\n",
    "    value = context['ti'].xcom_pull(\n",
    "        task_id='task_name',\n",
    "        key='key_name'\n",
    "    )\n",
    "\n",
    "print(get_xcom_values(**{'ti':get_metadata})"
   ]
  },
  {
   "cell_type": "code",
   "execution_count": 0,
   "metadata": {
    "application/vnd.databricks.v1+cell": {
     "cellMetadata": {},
     "inputWidgets": {},
     "nuid": "bd4d393e-7065-4ea9-b9c2-894daf00a553",
     "showTitle": false,
     "tableResultSettingsMap": {},
     "title": ""
    }
   },
   "outputs": [],
   "source": [
    "def Initialize(self):\n",
    "    try:\n",
    "        self.dict_repo = self.get_Repository(logger = self.logger_for_initializer)\n",
    "        self.dict_meta = self.get_Metadata(logger = self.logger_for_initializer)\n",
    "        self.workspace = create_Workspace(host=self.dict_meta['host'],token=self.dict_meta['token'],logger=self.logger_for_initializer)\n",
    "        self.ObjectsTracker.manage_objects_tracker(DDLType='CREATE',logger=self.logger_for_initializer)\n",
    "        self.logger_for_initializer.info(f\"Success: Initializer succecceded.\")\n",
    "        print(f\"\\nInitializer succecceded.\")\n",
    "    except Exception as e:\n",
    "        self.logger_for_initializer.error(f\"Failure: Error occurred for initializer: \\n{e}\")\n",
    "        print(f\"\\nInitializer failed.\")\n",
    "    print(f\"For more details, refer below log file.\\n'{get_log_file(self.logger_for_initializer)}'\")\n",
    "\n",
    "\n",
    "\n",
    "\n"
   ]
  }
 ],
 "metadata": {
  "application/vnd.databricks.v1+notebook": {
   "computePreferences": {
    "hardware": {
     "accelerator": null,
     "gpuPoolId": null,
     "memory": null
    }
   },
   "dashboards": [],
   "environmentMetadata": {
    "base_environment": "",
    "environment_version": "3"
   },
   "inputWidgetPreferences": null,
   "language": "python",
   "notebookMetadata": {
    "pythonIndentUnit": 4
   },
   "notebookName": "TaskExecutor",
   "widgets": {}
  },
  "language_info": {
   "name": "python"
  }
 },
 "nbformat": 4,
 "nbformat_minor": 0
}
