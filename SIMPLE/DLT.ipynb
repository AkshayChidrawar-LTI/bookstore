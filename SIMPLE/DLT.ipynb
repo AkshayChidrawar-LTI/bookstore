{
 "cells": [
  {
   "cell_type": "code",
   "execution_count": 0,
   "metadata": {
    "application/vnd.databricks.v1+cell": {
     "cellMetadata": {
      "byteLimit": 2048000,
      "rowLimit": 10000
     },
     "inputWidgets": {},
     "nuid": "8d8b8b4d-be6d-4d66-9643-b0b8279532c9",
     "showTitle": false,
     "tableResultSettingsMap": {},
     "title": ""
    }
   },
   "outputs": [],
   "source": [
    "from pyspark.sql import functions as F\n",
    "from pyspark.sql.types import StructType, StructField, StringType, DoubleType, TimestampType, ArrayType, LongType\n",
    "# from pyspark import pipelines as dp\n",
    "\n",
    "books_schema = StructType([\n",
    "    StructField(\"book_id\", StringType()),\n",
    "    StructField(\"title\", StringType()),\n",
    "    StructField(\"author\", StringType()),\n",
    "    StructField(\"price\", DoubleType()),\n",
    "    StructField(\"updated\", TimestampType())\n",
    "])\n",
    "\n",
    "customers_schema = StructType([\n",
    "    StructField(\"customer_id\", StringType()),\n",
    "    StructField(\"email\", StringType()),\n",
    "    StructField(\"first_name\", StringType()),\n",
    "    StructField(\"last_name\", StringType()),\n",
    "    StructField(\"gender\", StringType()),\n",
    "    StructField(\"city\", StringType()),\n",
    "    StructField(\"country_code\", StringType()),\n",
    "    StructField(\"row_status\", StringType()),\n",
    "    StructField(\"row_time\", TimestampType())\n",
    "])\n",
    "\n",
    "orders_schema = StructType([\n",
    "    StructField(\"order_id\", StringType()),\n",
    "    StructField(\"order_timestamp\", TimestampType()),\n",
    "    StructField(\"customer_id\", StringType()),\n",
    "    StructField(\"quantity\", LongType()),\n",
    "    StructField(\"total\", LongType()),\n",
    "    StructField(\"email\", StringType()),\n",
    "    StructField(\"first_name\", StringType()),\n",
    "    StructField(\"last_name\", StringType()),\n",
    "    StructField(\"gender\", StringType()),\n",
    "    StructField(\"street\", StringType()),\n",
    "    StructField(\"city\", StringType()),\n",
    "    StructField(\"country\", StringType()),\n",
    "    StructField(\"row_time\", TimestampType()),\n",
    "    StructField(\"processed_timestamp\", TimestampType()),\n",
    "    StructField(\"books\", ArrayType(StructType([\n",
    "        StructField(\"book_id\", StringType()),\n",
    "        StructField(\"quantity\", LongType()),\n",
    "        StructField(\"subtotal\", LongType())\n",
    "        ])))\n",
    "])\n",
    "\n",
    "# @dp.view\n",
    "raw_feed = (\n",
    "    spark.readStream\n",
    "    .format('cloudFiles')\n",
    "    .option('cloudFiles.format', 'json')\n",
    "    .option('cloudFiles.schemaLocation', 's3://bookstoredatabricks/schema/raw_feed')\n",
    "    .option('mergeSchema', 'true')\n",
    "    .load('s3://bookstorerawdata/feed_batch/')\n",
    "    .withColumn('key', F.decode(F.unbase64(F.col('key')), 'utf-8'))\n",
    "    .withColumn('value', F.decode(F.unbase64(F.col('value')), 'utf-8'))\n",
    "    .withColumn('topic', F.col('topic').cast('string'))\n",
    "    .withColumn('timestamp', F.col('timestamp').cast('long'))\n",
    "    .select(\n",
    "        F.col('topic'),\n",
    "        F.col('key').cast('string'),\n",
    "        F.col('value').cast('string'),\n",
    "        (F.col('timestamp') / 1000).cast('timestamp').alias('create_ts'),\n",
    "        F.col('_metadata.file_path').alias('source_file'),\n",
    "        F.from_utc_timestamp(F.current_timestamp(), 'Asia/Kolkata').alias('insert_ts')\n",
    "    )\n",
    ")\n",
    "\n",
    "# @dp.table(name='bookstore.bronze.books')\n",
    "def books():\n",
    "    return (\n",
    "        spark.readStream('raw_feed')\n",
    "        .filter(F.col('topic') == 'books')\n",
    "        .withColumn('v', F.from_json(F.col('value'), books_schema))\n",
    "        .select('key', 'v.*', 'create_ts', 'source_file', 'insert_ts')\n",
    "    )\n",
    "\n",
    "# @dp.table(name='bookstore.bronze.customers')\n",
    "def customers():\n",
    "    return (\n",
    "        spark.readStream('raw_feed')\n",
    "        .filter(F.col('topic') == 'customers')\n",
    "        .withColumn('v', F.from_json(F.col('value'), customers_schema))\n",
    "        .select('key', 'v.*', 'create_ts', 'source_file', 'insert_ts')\n",
    "    )\n",
    "\n",
    "# @dp.table(name='bookstore.bronze.orders')\n",
    "def orders():\n",
    "    return (\n",
    "        spark.readStream('raw_feed')\n",
    "        .filter(F.col('topic') == 'orders')\n",
    "        .withColumn('v', F.from_json(F.col('value'), orders_schema))\n",
    "        .select('key', 'v.*', 'create_ts', 'source_file', 'insert_ts')\n",
    "    )"
   ]
  }
 ],
 "metadata": {
  "application/vnd.databricks.v1+notebook": {
   "computePreferences": {
    "hardware": {
     "accelerator": null,
     "gpuPoolId": null,
     "memory": null
    }
   },
   "dashboards": [],
   "environmentMetadata": {
    "base_environment": "",
    "environment_version": "3"
   },
   "inputWidgetPreferences": null,
   "language": "python",
   "notebookMetadata": {
    "pythonIndentUnit": 4
   },
   "notebookName": "DLT",
   "widgets": {}
  },
  "language_info": {
   "name": "python"
  }
 },
 "nbformat": 4,
 "nbformat_minor": 0
}
