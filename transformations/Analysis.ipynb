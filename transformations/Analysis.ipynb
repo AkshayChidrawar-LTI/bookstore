{
 "cells": [
  {
   "cell_type": "code",
   "execution_count": 0,
   "metadata": {
    "application/vnd.databricks.v1+cell": {
     "cellMetadata": {
      "byteLimit": 2048000,
      "rowLimit": 10000
     },
     "inputWidgets": {},
     "nuid": "1dd10fbb-eef5-46ba-8ef2-f0a0ab33e84f",
     "showTitle": false,
     "tableResultSettingsMap": {},
     "title": ""
    }
   },
   "outputs": [],
   "source": [
    "from functions import *\n",
    "from inputs import *\n",
    "from pyspark.sql import functions as F\n"
   ]
  },
  {
   "cell_type": "code",
   "execution_count": 0,
   "metadata": {
    "application/vnd.databricks.v1+cell": {
     "cellMetadata": {
      "byteLimit": 2048000,
      "implicitDf": true,
      "rowLimit": 10000
     },
     "collapsed": true,
     "inputWidgets": {},
     "nuid": "7e1440ef-8cc8-4c83-ab07-4cffc9e2c4eb",
     "showTitle": false,
     "tableResultSettingsMap": {
      "0": {
       "dataGridStateBlob": "{\"version\":1,\"tableState\":{\"columnPinning\":{\"left\":[\"#row_number#\"],\"right\":[]},\"columnSizing\":{},\"columnVisibility\":{}},\"settings\":{\"columns\":{}},\"syncTimestamp\":1761221332122}",
       "filterBlob": null,
       "queryPlanFiltersBlob": null,
       "tableResultIndex": 0
      }
     },
     "title": ""
    }
   },
   "outputs": [],
   "source": [
    "source = 'bookstore.bronze.books_temp'\n",
    "target = 'bookstore.silver.books'\n",
    "\n",
    "display(spark.sql(f\"select * from {source}\").sort('book_id','updated'))\n",
    "display(spark.sql(f\"select * from {target}\").sort('book_id','start_date'))"
   ]
  },
  {
   "cell_type": "code",
   "execution_count": 0,
   "metadata": {
    "application/vnd.databricks.v1+cell": {
     "cellMetadata": {
      "byteLimit": 2048000,
      "rowLimit": 10000
     },
     "inputWidgets": {},
     "nuid": "817f4ba4-b9f5-4585-8d7c-5522e8aad2b8",
     "showTitle": true,
     "tableResultSettingsMap": {},
     "title": "feed 01, books update 01, books update 02, Merge"
    }
   },
   "outputs": [],
   "source": [
    "def read_file(file_name):\n",
    "    return (\n",
    "        topics_feed(feed=raw_feed(spark=spark\n",
    "                                  ,path_=path_feeds\n",
    "                                  ,schema_=schema_feeds\n",
    "                                  ,lakeflow=0)\n",
    "                    ,name_='books'\n",
    "                    ,schema_=schema_books)\n",
    "        .filter(F.col('source_file') == file_name)\n",
    "    )\n",
    "\n",
    "feed_01 = read_file('s3://bookstorerawdata/rawfeed/feed_01.json')\n",
    "display(feed_01.sort(\"book_id\"))\n",
    "# feed_01.write.mode(\"append\").saveAsTable(source)\n",
    "\n",
    "AK_booksUpdate_01 = read_file('s3://bookstorerawdata/rawfeed/AK_booksUpdate_01.json')\n",
    "display(AK_booksUpdate_01.sort(\"book_id\"))\n",
    "# AK_booksUpdate_01.write.mode(\"append\").saveAsTable(source)\n",
    "\n",
    "AK_booksUpdate_02 = read_file('s3://bookstorerawdata/rawfeed/AK_booksUpdate_02.json')\n",
    "display(AK_booksUpdate_02.sort(\"book_id\"))\n",
    "# AK_booksUpdate_02.write.mode(\"append\").saveAsTable(source)\n",
    "\n",
    "# books_scdType2_upsert(spark=spark\n",
    "#                       ,source=source\n",
    "#                       ,target=target)"
   ]
  },
  {
   "cell_type": "code",
   "execution_count": 0,
   "metadata": {
    "application/vnd.databricks.v1+cell": {
     "cellMetadata": {
      "byteLimit": 2048000,
      "implicitDf": true,
      "rowLimit": 10000
     },
     "collapsed": true,
     "inputWidgets": {},
     "nuid": "99758606-4d18-45e6-b0eb-ff6df6cfc7e7",
     "showTitle": false,
     "tableResultSettingsMap": {},
     "title": ""
    }
   },
   "outputs": [],
   "source": [
    "%sql\n",
    "-- drop table if exists bookstore.bronze.books_temp;\n",
    "-- CREATE TABLE IF NOT EXISTS bookstore.bronze.books_temp\n",
    "-- (book_id STRING,title STRING,author STRING,price DOUBLE,updated TIMESTAMP,source_file STRING,insert_ts TIMESTAMP);\n",
    "-- truncate table bookstore.bronze.books_temp;\n",
    "-- truncate table bookstore.silver.books;"
   ]
  }
 ],
 "metadata": {
  "application/vnd.databricks.v1+notebook": {
   "computePreferences": null,
   "dashboards": [],
   "environmentMetadata": {
    "base_environment": "",
    "environment_version": "4"
   },
   "inputWidgetPreferences": null,
   "language": "python",
   "notebookMetadata": {
    "mostRecentlyExecutedCommandWithImplicitDF": {
     "commandId": 7960844614471443,
     "dataframes": [
      "_sqldf"
     ]
    },
    "pythonIndentUnit": 4
   },
   "notebookName": "Analysis",
   "widgets": {}
  },
  "language_info": {
   "name": "python"
  }
 },
 "nbformat": 4,
 "nbformat_minor": 0
}
