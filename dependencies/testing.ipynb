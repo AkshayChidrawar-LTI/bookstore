{
 "cells": [
  {
   "cell_type": "code",
   "execution_count": 0,
   "metadata": {
    "application/vnd.databricks.v1+cell": {
     "cellMetadata": {
      "byteLimit": 2048000,
      "rowLimit": 10000
     },
     "inputWidgets": {},
     "nuid": "4fd9f26f-5ee5-45d5-a74c-cea62eeb1d01",
     "showTitle": false,
     "tableResultSettingsMap": {},
     "title": ""
    }
   },
   "outputs": [],
   "source": [
    "from helper_logger import LoggerManager\n",
    "from helper_yaml import *"
   ]
  },
  {
   "cell_type": "code",
   "execution_count": 0,
   "metadata": {
    "application/vnd.databricks.v1+cell": {
     "cellMetadata": {
      "byteLimit": 2048000,
      "rowLimit": 10000
     },
     "inputWidgets": {},
     "nuid": "69aa9404-8cc3-4000-84e3-216587a1ecf5",
     "showTitle": false,
     "tableResultSettingsMap": {},
     "title": ""
    }
   },
   "outputs": [],
   "source": [
    "test_logger = LoggerManager(\n",
    "  'logger_for_test'\n",
    "  ,'/Workspace/Users/akshay.chidrawar@ltimindtree.com/bookstore/log/test.log'\n",
    "  ,'w')\n",
    "test_logger.logger.info('Test log now')\n",
    "test_logger.get_Handlers()\n",
    "\n",
    "print(type(test_logger))\n",
    "test_logger.remove_Logger()\n",
    "del test_logger\n"
   ]
  },
  {
   "cell_type": "code",
   "execution_count": 0,
   "metadata": {
    "application/vnd.databricks.v1+cell": {
     "cellMetadata": {
      "byteLimit": 2048000,
      "rowLimit": 10000
     },
     "inputWidgets": {},
     "nuid": "8a17fc1b-f63a-4ddc-90d7-e2139f7a678e",
     "showTitle": false,
     "tableResultSettingsMap": {},
     "title": ""
    }
   },
   "outputs": [],
   "source": [
    "file = '/Workspace/Users/akshay.chidrawar@ltimindtree.com/bookstore/schema/ct_bookstore_db_silver_tbl_orders.yml'\n",
    "\n",
    "fc = read_yaml(file)\n",
    "print(yaml_to_schema(fc['columns']))"
   ]
  }
 ],
 "metadata": {
  "application/vnd.databricks.v1+notebook": {
   "computePreferences": {
    "hardware": {
     "accelerator": null,
     "gpuPoolId": null,
     "memory": null
    }
   },
   "dashboards": [],
   "environmentMetadata": {
    "base_environment": "",
    "environment_version": "3"
   },
   "inputWidgetPreferences": null,
   "language": "python",
   "notebookMetadata": {
    "pythonIndentUnit": 4
   },
   "notebookName": "testing",
   "widgets": {}
  },
  "language_info": {
   "name": "python"
  }
 },
 "nbformat": 4,
 "nbformat_minor": 0
}
