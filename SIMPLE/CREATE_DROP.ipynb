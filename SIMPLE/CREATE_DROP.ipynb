{
 "cells": [
  {
   "cell_type": "code",
   "execution_count": 0,
   "metadata": {
    "application/vnd.databricks.v1+cell": {
     "cellMetadata": {
      "byteLimit": 2048000,
      "rowLimit": 10000
     },
     "inputWidgets": {},
     "nuid": "9ffc9291-4c67-4a78-ad0f-26cc430018fc",
     "showTitle": false,
     "tableResultSettingsMap": {},
     "title": ""
    }
   },
   "outputs": [],
   "source": [
    "from databricks.sdk import WorkspaceClient\n",
    "from databricks.sdk.service.catalog import AwsIamRole\n",
    "\n",
    "workspace = WorkspaceClient()"
   ]
  },
  {
   "cell_type": "code",
   "execution_count": 0,
   "metadata": {
    "application/vnd.databricks.v1+cell": {
     "cellMetadata": {
      "byteLimit": 2048000,
      "rowLimit": 10000
     },
     "inputWidgets": {},
     "nuid": "0d94fa89-53d1-4ad9-b208-082ae8b06341",
     "showTitle": false,
     "tableResultSettingsMap": {},
     "title": ""
    }
   },
   "outputs": [],
   "source": [
    "workspace.storage_credentials.create(\n",
    "    name='sc_bookstorerawdata'\n",
    "    ,aws_iam_role=AwsIamRole(role_arn = 'arn:aws:iam::302263052839:role/databricks-s3-ingest-3fcda-db_s3_iam')\n",
    ")\n",
    "workspace.storage_credentials.create(\n",
    "    name='sc_bookstoredatabricks'\n",
    "    ,aws_iam_role=AwsIamRole(role_arn = 'arn:aws:iam::302263052839:role/databricks-s3-ingest-f00cb-db_s3_iam')\n",
    ")\n",
    "\n",
    "workspace.external_locations.create(\n",
    "    name='el_bookstorerawdata'\n",
    "    ,url='s3://bookstorerawdata/'\n",
    "    ,credential_name='sc_bookstorerawdata'\n",
    ")\n",
    "workspace.external_locations.create(\n",
    "    name='el_bookstoredatabricks'\n",
    "    ,url='s3://bookstoredatabricks/'\n",
    "    ,credential_name='sc_bookstoredatabricks'\n",
    ")\n",
    "\n",
    "spark.sql(f\"CREATE CATALOG IF NOT EXISTS bookstore\")\n",
    "spark.sql(f\"CREATE DATABASE IF NOT EXISTS bookstore.bronze\")\n",
    "spark.sql(f\"CREATE DATABASE IF NOT EXISTS bookstore.silver\")\n",
    "spark.sql(f\"CREATE DATABASE IF NOT EXISTS bookstore.gold\")\n",
    "spark.sql(f\"CREATE TABLE IF NOT EXISTS bookstore.silver.books (book_id STRING, title STRING, author STRING, price DOUBLE, isActive BOOLEAN, start_date TIMESTAMP, end_date TIMESTAMP)\")\n",
    "spark.sql(f\"CREATE TABLE IF NOT EXISTS bookstore.silver.customers (customer_id STRING, email STRING, first_name STRING, last_name STRING, gender STRING, city STRING, country STRING, last_updated TIMESTAMP)\")\n",
    "spark.sql(f\"CREATE TABLE IF NOT EXISTS bookstore.silver.orders (order_id STRING, order_timestamp Timestamp, customer_id STRING, quantity BIGINT, total BIGINT, email STRING, first_name STRING, last_name STRING, gender STRING, street STRING, city STRING, country STRING, row_time TIMESTAMP, processed_timestamp TIMESTAMP, books ARRAY<STRUCT<book_id STRING, quantity BIGINT, subtotal BIGINT>>)\")\n"
   ]
  },
  {
   "cell_type": "code",
   "execution_count": 0,
   "metadata": {
    "application/vnd.databricks.v1+cell": {
     "cellMetadata": {
      "byteLimit": 2048000,
      "rowLimit": 10000
     },
     "inputWidgets": {},
     "nuid": "726b5c29-f054-40c7-85ed-c0562f49e295",
     "showTitle": false,
     "tableResultSettingsMap": {},
     "title": ""
    }
   },
   "outputs": [],
   "source": [
    "spark.sql(f\"DROP TABLE IF EXISTS bookstore.silver.books\")\n",
    "spark.sql(f\"DROP TABLE IF EXISTS bookstore.silver.customers\")\n",
    "spark.sql(f\"DROP TABLE IF EXISTS bookstore.silver.orders\")\n",
    "spark.sql(f\"DROP DATABASE IF EXISTS bookstore.bronze CASCADE\")\n",
    "spark.sql(f\"DROP DATABASE IF EXISTS bookstore.silver CASCADE\")\n",
    "spark.sql(f\"DROP DATABASE IF EXISTS bookstore.gold CASCADE\")\n",
    "spark.sql(f\"DROP CATALOG IF EXISTS bookstore CASCADE\")\n",
    "workspace.external_locations.delete('el_bookstorerawdata')\n",
    "workspace.external_locations.delete('el_bookstoredatabricks')\n",
    "workspace.storage_credentials.delete('sc_bookstorerawdata')\n",
    "workspace.storage_credentials.delete('sc_bookstoredatabricks')"
   ]
  }
 ],
 "metadata": {
  "application/vnd.databricks.v1+notebook": {
   "computePreferences": {
    "hardware": {
     "accelerator": null,
     "gpuPoolId": null,
     "memory": null
    }
   },
   "dashboards": [],
   "environmentMetadata": {
    "base_environment": "",
    "environment_version": "3"
   },
   "inputWidgetPreferences": null,
   "language": "python",
   "notebookMetadata": {
    "pythonIndentUnit": 4
   },
   "notebookName": "CREATE_DROP",
   "widgets": {}
  },
  "language_info": {
   "name": "python"
  }
 },
 "nbformat": 4,
 "nbformat_minor": 0
}
