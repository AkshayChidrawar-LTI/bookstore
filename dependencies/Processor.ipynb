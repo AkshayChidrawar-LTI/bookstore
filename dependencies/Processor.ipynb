{
 "cells": [
  {
   "cell_type": "code",
   "execution_count": 0,
   "metadata": {
    "application/vnd.databricks.v1+cell": {
     "cellMetadata": {
      "byteLimit": 2048000,
      "rowLimit": 10000
     },
     "inputWidgets": {},
     "nuid": "ad8d0533-e980-4b2a-b0cb-20f87a413cbd",
     "showTitle": false,
     "tableResultSettingsMap": {},
     "title": ""
    }
   },
   "outputs": [],
   "source": [
    "%run ./Designer"
   ]
  },
  {
   "cell_type": "code",
   "execution_count": 0,
   "metadata": {
    "application/vnd.databricks.v1+cell": {
     "cellMetadata": {},
     "inputWidgets": {},
     "nuid": "174d526e-ee9c-4e86-829d-0f38dd74aabd",
     "showTitle": false,
     "tableResultSettingsMap": {},
     "title": ""
    }
   },
   "outputs": [],
   "source": [
    "class Ingestion():\n",
    "    def __init__(\n",
    "        self\n",
    "        ,FeedTopics_file: str\n",
    "    ):\n",
    "        self.FeedTopics = read_yaml(FeedTopics_file)\n",
    "        self.dict_Feed = self.get_Feed()\n",
    "        self.topics = pd.DataFrame(columns=['topic_name','topic_schema','topic_BronzeTblName'])\n",
    "        self.list_of_topics = ['books','customers','orders']\n",
    "\n",
    "    def get_Feed(self)-> dict:\n",
    "        FeedTopics = self.FeedTopics\n",
    "        return {\n",
    "            \"feed_path\": FeedTopics['feed']['path']\n",
    "            ,\"feed_schema\": FeedTopics['feed']['schema']\n",
    "        }\n",
    "\n",
    "    def get_Topics(self):\n",
    "        FeedTopics = self.FeedTopics\n",
    "        topics = FeedTopics['topics']\n",
    "        for topic in topics:\n",
    "            topic_name = topic['name']\n",
    "            topic_schema = topic['schema']\n",
    "            topic_BronzeTblName = topic['BronzeTblName']\n",
    "            self.topics = appendTo_DF(self.topics,{'topic_name':topic_name,'topic_schema':topic_schema,'topic_BronzeTblName':topic_BronzeTblName})\n",
    "\n",
    "    def GenerateDLTScript(self):\n",
    "        feed_path = self.dict_Feed['feed_path']\n",
    "        topics = \n",
    "        generate_dlt_script(feed_path,)\n"
   ]
  },
  {
   "cell_type": "code",
   "execution_count": 0,
   "metadata": {
    "application/vnd.databricks.v1+cell": {
     "cellMetadata": {},
     "inputWidgets": {},
     "nuid": "99da2524-d096-4c29-a576-93671df949c0",
     "showTitle": false,
     "tableResultSettingsMap": {},
     "title": ""
    }
   },
   "outputs": [],
   "source": [
    "\n",
    "from pyspark.sql import functions as F\n",
    "\n",
    "@dlt.view\n",
    "def raw_feed():\n",
    "    return (\n",
    "        spark.readStream\n",
    "        .format('cloudFiles')\n",
    "        .option('cloudFiles.format','json')\n",
    "        .load(feed_batch)\n",
    "        .select(\n",
    "            F.col('topic')\n",
    "            ,F.col('key').cast('string')\n",
    "            ,F.col('value').cast('string')\n",
    "            ,(F.col('timestamp')/1000).cast('timestamp').alias('create_ts')\n",
    "            ,F.input_file_name().alias('source_file')\n",
    "            ,F.current_timestamp().alias('insert_ts')\n",
    "        )\n",
    "    )\n",
    "\n",
    "@dlt.table(name='ct_bookstore.db_bronze.tbl_books')\n",
    "def books():\n",
    "    return (\n",
    "        dlt.read(\"raw_feed\")\n",
    "        .filter(F.col('topic') == 'books')\n",
    "        .withColumn('v', F.from_json(F.col('value'), books_schema))\n",
    "        .select('key', 'create_ts', 'source_file', 'insert_ts', 'v.*')\n",
    "    )\n",
    "\n",
    "@dlt.table(name=\"tbl_customers\")\n",
    "def customers():\n",
    "    return (\n",
    "        dlt.read(\"raw_feed\")\n",
    "        .filter(F.col('topic') == 'customers')\n",
    "        .withColumn('v', F.from_json(F.col('value'), customers_schema))\n",
    "        .select('key', 'create_ts', 'source_file', 'insert_ts', 'v.*')\n",
    "    )\n",
    "\n",
    "@dlt.table(name=\"tbl_orders\")\n",
    "def orders():\n",
    "    return (\n",
    "        dlt.read(\"raw_feed\")\n",
    "        .filter(F.col('topic') == 'orders')\n",
    "        .withColumn('v', F.from_json(F.col('value'), orders_schema))\n",
    "        .select('key', 'create_ts', 'source_file', 'insert_ts', 'v.*')\n",
    "    )"
   ]
  }
 ],
 "metadata": {
  "application/vnd.databricks.v1+notebook": {
   "computePreferences": null,
   "dashboards": [],
   "environmentMetadata": {
    "base_environment": "",
    "environment_version": "3"
   },
   "inputWidgetPreferences": null,
   "language": "python",
   "notebookMetadata": {
    "pythonIndentUnit": 4
   },
   "notebookName": "Processor",
   "widgets": {}
  },
  "language_info": {
   "name": "python"
  }
 },
 "nbformat": 4,
 "nbformat_minor": 0
}
