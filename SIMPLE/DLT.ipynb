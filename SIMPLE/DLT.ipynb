{
 "cells": [
  {
   "cell_type": "code",
   "execution_count": 0,
   "metadata": {
    "application/vnd.databricks.v1+cell": {
     "cellMetadata": {
      "byteLimit": 2048000,
      "rowLimit": 10000
     },
     "inputWidgets": {},
     "nuid": "8d8b8b4d-be6d-4d66-9643-b0b8279532c9",
     "showTitle": false,
     "tableResultSettingsMap": {},
     "title": ""
    }
   },
   "outputs": [],
   "source": [
    "from pyspark.sql import functions as F\n",
    "import dlt\n",
    "\n",
    "@dlt.view\n",
    "def raw_feed():\n",
    "    return (\n",
    "        spark.readStream\n",
    "        .format('cloudFiles')\n",
    "        .option('cloudFiles.format','json')\n",
    "        .load('s3://bookstorerawdata/feed_batch/')\n",
    "        .select(\n",
    "            F.col('topic')\n",
    "            ,F.col('key').cast('string')\n",
    "            ,F.col('value').cast('string')\n",
    "            ,(F.col('timestamp')/1000).cast('timestamp').alias('create_ts')\n",
    "            ,F.input_file_name().alias('source_file')\n",
    "            ,F.current_timestamp().alias('insert_ts')\n",
    "        )\n",
    "    )\n",
    "\n",
    "@dlt.table(name='bookstore.bronze.books')\n",
    "def books():\n",
    "    return (\n",
    "        dlt.read('raw_feed')\n",
    "        .filter(F.col('topic') == 'books')\n",
    "        .withColumn('v',F.from_json(F.col('value'),('book_id STRING, title STRING, author STRING, price DOUBLE, updated TIMESTAMP')))\n",
    "        .select('key','create_ts','source_file', 'insert_ts', 'v.*')\n",
    "    )\n",
    "\n",
    "@dlt.table(name='bookstore.bronze.customers')\n",
    "def customers():\n",
    "    return (\n",
    "        dlt.read('raw_feed')\n",
    "        .filter(F.col('topic') == 'customers')\n",
    "        .withColumn('v',F.from_json(F.col('value'),('customer_id STRING, email STRING, first_name STRING, last_name STRING, gender STRING, city STRING, country_code STRING, row_status STRING, row_time timestamp')))\n",
    "        .select('key','create_ts','source_file','insert_ts','v.*')\n",
    "    )\n",
    "\n",
    "@dlt.table(name='bookstore.bronze.orders')\n",
    "def orders():\n",
    "    return (\n",
    "        dlt.read('raw_feed')\n",
    "        .filter(F.col('topic') == 'orders')\n",
    "        .withColumn('v', F.from_json(F.col('value'),('order_id STRING, order_timestamp Timestamp, customer_id STRING, quantity BIGINT, total BIGINT, email STRING, first_name STRING, last_name STRING, gender STRING, street STRING, city STRING, country STRING, row_time TIMESTAMP, processed_timestamp TIMESTAMP, books ARRAY<STRUCT<book_id STRING, quantity BIGINT, subtotal BIGINT>>')))\n",
    "        .select('key','create_ts','source_file','insert_ts','v.*')\n",
    "    )"
   ]
  },
  {
   "cell_type": "code",
   "execution_count": 0,
   "metadata": {
    "application/vnd.databricks.v1+cell": {
     "cellMetadata": {},
     "inputWidgets": {},
     "nuid": "43b590b8-3382-4012-ab38-fa67e83232cd",
     "showTitle": false,
     "tableResultSettingsMap": {},
     "title": ""
    }
   },
   "outputs": [],
   "source": []
  }
 ],
 "metadata": {
  "application/vnd.databricks.v1+notebook": {
   "computePreferences": {
    "hardware": {
     "accelerator": null,
     "gpuPoolId": null,
     "memory": null
    }
   },
   "dashboards": [],
   "environmentMetadata": {
    "base_environment": "",
    "environment_version": "3"
   },
   "inputWidgetPreferences": null,
   "language": "python",
   "notebookMetadata": {
    "pythonIndentUnit": 4
   },
   "notebookName": "DLT",
   "widgets": {}
  },
  "language_info": {
   "name": "python"
  }
 },
 "nbformat": 4,
 "nbformat_minor": 0
}
